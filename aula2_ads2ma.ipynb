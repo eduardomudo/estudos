{
  "nbformat": 4,
  "nbformat_minor": 0,
  "metadata": {
    "colab": {
      "provenance": [],
      "authorship_tag": "ABX9TyPxlQEK3p952hGRw2PGJZRS",
      "include_colab_link": true
    },
    "kernelspec": {
      "name": "python3",
      "display_name": "Python 3"
    },
    "language_info": {
      "name": "python"
    }
  },
  "cells": [
    {
      "cell_type": "markdown",
      "metadata": {
        "id": "view-in-github",
        "colab_type": "text"
      },
      "source": [
        "<a href=\"https://colab.research.google.com/github/eduardomudo/estudos/blob/main/aula2_ads2ma.ipynb\" target=\"_parent\"><img src=\"https://colab.research.google.com/assets/colab-badge.svg\" alt=\"Open In Colab\"/></a>"
      ]
    },
    {
      "cell_type": "code",
      "execution_count": 8,
      "metadata": {
        "colab": {
          "base_uri": "https://localhost:8080/"
        },
        "id": "RFs4C5rFfTbQ",
        "outputId": "e60cdc3a-26f5-4373-f815-f19fcb475213"
      },
      "outputs": [
        {
          "output_type": "stream",
          "name": "stdout",
          "text": [
            "ola mundo!\n",
            "<class 'str'>\n"
          ]
        }
      ],
      "source": [
        "#uninassau\n",
        "#docente:cloves rocha\n",
        "#estudante: eduardo jose\n",
        "# tipos primitivos de dados\n",
        "\n",
        "print(\"ola mundo!\")\n",
        "c = 'dado'\n",
        "print(type(c))"
      ]
    }
  ]
}