{
  "nbformat": 4,
  "nbformat_minor": 0,
  "metadata": {
    "colab": {
      "provenance": []
    },
    "kernelspec": {
      "name": "python3",
      "display_name": "Python 3"
    },
    "language_info": {
      "name": "python"
    }
  },
  "cells": [
    {
      "cell_type": "code",
      "execution_count": 6,
      "metadata": {
        "colab": {
          "base_uri": "https://localhost:8080/"
        },
        "id": "RFs4C5rFfTbQ",
        "outputId": "4b279cc3-a77d-49df-d954-481a0135c722"
      },
      "outputs": [
        {
          "output_type": "stream",
          "name": "stdout",
          "text": [
            "ola mundo!\n",
            "<class 'bool'>\n"
          ]
        }
      ],
      "source": [
        "#uninassau\n",
        "#docente:cloves rocha\n",
        "#estudante: eduardo jose\n",
        "# tipos primitivos de dados\n",
        "\n",
        "print(\"ola mundo!\")\n",
        "c = True\n",
        "print(type(c))"
      ]
    }
  ]
}